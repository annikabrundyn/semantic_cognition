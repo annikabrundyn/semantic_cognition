{
  "nbformat": 4,
  "nbformat_minor": 0,
  "metadata": {
    "colab": {
      "name": "pred_test_images.ipynb",
      "provenance": [],
      "collapsed_sections": [],
      "authorship_tag": "ABX9TyNrGbF34AxtNq5hIvtYDt7g",
      "include_colab_link": true
    },
    "kernelspec": {
      "name": "python3",
      "display_name": "Python 3"
    },
    "language_info": {
      "name": "python"
    }
  },
  "cells": [
    {
      "cell_type": "markdown",
      "metadata": {
        "id": "view-in-github",
        "colab_type": "text"
      },
      "source": [
        "<a href=\"https://colab.research.google.com/github/annikabrundyn/semantic_cognition/blob/main/pred_test_images.ipynb\" target=\"_parent\"><img src=\"https://colab.research.google.com/assets/colab-badge.svg\" alt=\"Open In Colab\"/></a>"
      ]
    },
    {
      "cell_type": "code",
      "metadata": {
        "colab": {
          "base_uri": "https://localhost:8080/"
        },
        "id": "fHSsirFbzxUC",
        "outputId": "a2f0f9dd-efe1-449a-f7fe-6b853af9fcb9"
      },
      "source": [
        "### mount gdrive \n",
        "from google.colab import drive\n",
        "drive.mount('/content/drive')"
      ],
      "execution_count": 1,
      "outputs": [
        {
          "output_type": "stream",
          "text": [
            "Mounted at /content/drive\n"
          ],
          "name": "stdout"
        }
      ]
    },
    {
      "cell_type": "code",
      "metadata": {
        "id": "RGOUoglKH6wX"
      },
      "source": [
        "%%capture\n",
        "!pip install git+https://github.com/PyTorchLightning/pytorch-lightning\n",
        "import pytorch_lightning as pl"
      ],
      "execution_count": 2,
      "outputs": []
    },
    {
      "cell_type": "code",
      "metadata": {
        "colab": {
          "base_uri": "https://localhost:8080/",
          "height": 310
        },
        "id": "Wc56Op7E7QSy",
        "outputId": "f7d5650f-ea99-40e1-f2fc-e40567e6b43e"
      },
      "source": [
        "%%capture\n",
        "!pip install numpy==1.20.2"
      ],
      "execution_count": 3,
      "outputs": [
        {
          "output_type": "stream",
          "text": [
            "Collecting numpy==1.20.2\n",
            "\u001b[?25l  Downloading https://files.pythonhosted.org/packages/73/ef/8967d406f3f85018ceb5efab50431e901683188f1741ceb053efcab26c87/numpy-1.20.2-cp37-cp37m-manylinux2010_x86_64.whl (15.3MB)\n",
            "\u001b[K     |████████████████████████████████| 15.3MB 301kB/s \n",
            "\u001b[31mERROR: tensorflow 2.4.1 has requirement numpy~=1.19.2, but you'll have numpy 1.20.2 which is incompatible.\u001b[0m\n",
            "\u001b[31mERROR: datascience 0.10.6 has requirement folium==0.2.1, but you'll have folium 0.8.3 which is incompatible.\u001b[0m\n",
            "\u001b[31mERROR: albumentations 0.1.12 has requirement imgaug<0.2.7,>=0.2.5, but you'll have imgaug 0.2.9 which is incompatible.\u001b[0m\n",
            "\u001b[?25hInstalling collected packages: numpy\n",
            "  Found existing installation: numpy 1.19.5\n",
            "    Uninstalling numpy-1.19.5:\n",
            "      Successfully uninstalled numpy-1.19.5\n",
            "Successfully installed numpy-1.20.2\n"
          ],
          "name": "stdout"
        },
        {
          "output_type": "display_data",
          "data": {
            "application/vnd.colab-display-data+json": {
              "pip_warning": {
                "packages": [
                  "numpy"
                ]
              }
            }
          },
          "metadata": {
            "tags": []
          }
        }
      ]
    },
    {
      "cell_type": "code",
      "metadata": {
        "colab": {
          "base_uri": "https://localhost:8080/"
        },
        "id": "irpvkWSe0KvE",
        "outputId": "4aa29a95-3898-4c10-a56b-a00e875309cc"
      },
      "source": [
        "%cd /content/drive/MyDrive/CCM_Project"
      ],
      "execution_count": 1,
      "outputs": [
        {
          "output_type": "stream",
          "text": [
            "/content/drive/.shortcut-targets-by-id/1n0HzIhxNyNo6PhdIqIFVZn5JxNmbkp8E/CCM_Project\n"
          ],
          "name": "stdout"
        }
      ]
    },
    {
      "cell_type": "code",
      "metadata": {
        "colab": {
          "base_uri": "https://localhost:8080/"
        },
        "id": "DXmYLQr70UBU",
        "outputId": "038f48d5-de9a-4085-b99b-caeb5358cc73"
      },
      "source": [
        "!ls"
      ],
      "execution_count": 2,
      "outputs": [
        {
          "output_type": "stream",
          "text": [
            " ccm_analysis.ipynb\t\t      Data_Copy         semantic_cognition\n",
            " ckpt-test.ckpt\t\t\t      data_old\t        test_images\n",
            "'Copy of CCM Project Homies.gdoc'     model_artifacts   toy_data.zip\n",
            "'Copy of CCM Project Proposal.gdoc'   myckpt.ckpt\n",
            " data\t\t\t\t      REPORT.gdoc\n"
          ],
          "name": "stdout"
        }
      ]
    },
    {
      "cell_type": "code",
      "metadata": {
        "id": "FJsEVNV-1XCI"
      },
      "source": [
        "%%capture\n",
        "!git clone https://github.com/annikabrundyn/semantic_cognition.git\n",
        "#!cd semantic_cognition && pip install -r requirements.txt"
      ],
      "execution_count": 3,
      "outputs": []
    },
    {
      "cell_type": "code",
      "metadata": {
        "colab": {
          "base_uri": "https://localhost:8080/"
        },
        "id": "Py-MyMdv40ry",
        "outputId": "30166fc3-0eca-4ce1-d2f9-416b1924477a"
      },
      "source": [
        "%cd semantic_cognition/src"
      ],
      "execution_count": 4,
      "outputs": [
        {
          "output_type": "stream",
          "text": [
            "/content/drive/.shortcut-targets-by-id/1n0HzIhxNyNo6PhdIqIFVZn5JxNmbkp8E/CCM_Project/semantic_cognition/src\n"
          ],
          "name": "stdout"
        }
      ]
    },
    {
      "cell_type": "code",
      "metadata": {
        "id": "92B6LmmY2GZf"
      },
      "source": [
        "import os\n",
        "import torch\n",
        "from tqdm import tqdm\n",
        "from argparse import ArgumentParser\n",
        "\n",
        "import numpy as np\n",
        "\n",
        "import pytorch_lightning as pl\n",
        "#from torchvision.utils import save_image\n",
        "\n",
        "import matplotlib.pyplot as plt\n",
        "\n",
        "from model import BaseModel\n",
        "from datamodule import SemanticDataModule"
      ],
      "execution_count": 5,
      "outputs": []
    },
    {
      "cell_type": "code",
      "metadata": {
        "id": "tHJfAw562rzi"
      },
      "source": [
        "# install project\n",
        "#!cd semantic_cognition && pip install -e ."
      ],
      "execution_count": 6,
      "outputs": []
    },
    {
      "cell_type": "code",
      "metadata": {
        "colab": {
          "base_uri": "https://localhost:8080/"
        },
        "id": "BeVITEZx6NN7",
        "outputId": "8a98fe88-7e45-499f-f11a-1bff75690b9f"
      },
      "source": [
        "!ls"
      ],
      "execution_count": 7,
      "outputs": [
        {
          "output_type": "stream",
          "text": [
            "analysis.py\t   __init__.py\t\tsave_rep_callback.py\n",
            "baseline_model.py  model_components.py\tsemantic_cognition.egg-info\n",
            "datamodule.py\t   model.py\n",
            "data_utils.py\t   __pycache__\n"
          ],
          "name": "stdout"
        }
      ]
    },
    {
      "cell_type": "code",
      "metadata": {
        "id": "O8TBxTr20Ull"
      },
      "source": [
        "### LOAD MODEL CHECKPOINT\n",
        "\n",
        "test_dir = '/content/drive/MyDrive/CCM_Project/test_images'\n",
        "ckpt_path = '/content/drive/MyDrive/CCM_Project/myckpt.ckpt'"
      ],
      "execution_count": 8,
      "outputs": []
    },
    {
      "cell_type": "code",
      "metadata": {
        "id": "excfLv5a7Pzw"
      },
      "source": [
        "# # model args\n",
        "# parser = ArgumentParser()\n",
        "# parser = pl.Trainer.add_argparse_args(parser)\n",
        "# parser = BaseModel.add_model_specific_args(parser)\n",
        "# parser.add_argument(\"-f\", type=str, help=\"google colab weirdness\")\n",
        "# #args = parser.parse_args([\"--gpus\", \"1\", \"--batch_size\", \"1\"])\n",
        "# args = parser.parse_args()\n",
        "\n"
      ],
      "execution_count": 9,
      "outputs": []
    },
    {
      "cell_type": "code",
      "metadata": {
        "id": "pBTUumzP4P7k"
      },
      "source": [
        "#device = torch.device('cuda' if torch.cuda.is_available() else 'cpu')\n",
        "\n",
        "model = BaseModel.load_from_checkpoint(checkpoint_path=ckpt_path)\n",
        "#model.to(device)\n",
        "model.eval()\n",
        "model.freeze()"
      ],
      "execution_count": 10,
      "outputs": []
    },
    {
      "cell_type": "code",
      "metadata": {
        "id": "9DO-SKWl2RDA"
      },
      "source": [
        "dm = SemanticDataModule(root_dir=test_dir,\n",
        "                        imgs_per_item=1,\n",
        "                        crop_size=64,\n",
        "                        seed=98264,\n",
        "                        batch_size=1,\n",
        "                        num_workers=0)\n",
        "dm.prepare_data()"
      ],
      "execution_count": 11,
      "outputs": []
    },
    {
      "cell_type": "code",
      "metadata": {
        "id": "GRKdjByr6rp2"
      },
      "source": [
        "test_dl = dm.train_dataloader()"
      ],
      "execution_count": 12,
      "outputs": []
    },
    {
      "cell_type": "code",
      "metadata": {
        "id": "z-TvRu5A6ydO"
      },
      "source": [
        "batch = next(iter(test_dl))"
      ],
      "execution_count": 13,
      "outputs": []
    },
    {
      "cell_type": "code",
      "metadata": {
        "colab": {
          "base_uri": "https://localhost:8080/"
        },
        "id": "IINpAkOF7maU",
        "outputId": "2fd6a8eb-514d-4829-d747-4af2a4cc63f2"
      },
      "source": [
        "batch.keys()"
      ],
      "execution_count": 14,
      "outputs": [
        {
          "output_type": "execute_result",
          "data": {
            "text/plain": [
              "dict_keys(['item_name', 'img', 'rel', 'attr'])"
            ]
          },
          "metadata": {
            "tags": []
          },
          "execution_count": 14
        }
      ]
    },
    {
      "cell_type": "code",
      "metadata": {
        "colab": {
          "base_uri": "https://localhost:8080/"
        },
        "id": "adws8NAH8Hq6",
        "outputId": "b60da2ff-94d9-4341-a1fd-7d9bd2b3b88b"
      },
      "source": [
        "print(batch['item_name'])"
      ],
      "execution_count": 15,
      "outputs": [
        {
          "output_type": "stream",
          "text": [
            "['robin']\n"
          ],
          "name": "stdout"
        }
      ]
    },
    {
      "cell_type": "code",
      "metadata": {
        "colab": {
          "base_uri": "https://localhost:8080/"
        },
        "id": "n_Iapqia8XjJ",
        "outputId": "07542e1f-a5ba-402b-f2af-ca035b385fb8"
      },
      "source": [
        "batch['img'].shape"
      ],
      "execution_count": 16,
      "outputs": [
        {
          "output_type": "execute_result",
          "data": {
            "text/plain": [
              "torch.Size([1, 3, 64, 64])"
            ]
          },
          "metadata": {
            "tags": []
          },
          "execution_count": 16
        }
      ]
    },
    {
      "cell_type": "code",
      "metadata": {
        "colab": {
          "base_uri": "https://localhost:8080/",
          "height": 285
        },
        "id": "xg__V1Yz8KLP",
        "outputId": "ffecd32c-03b0-42af-d712-5b3ee81934b0"
      },
      "source": [
        "# input\n",
        "plt.imshow(batch['img'].squeeze(0).permute(1, 2, 0) )"
      ],
      "execution_count": 17,
      "outputs": [
        {
          "output_type": "execute_result",
          "data": {
            "text/plain": [
              "<matplotlib.image.AxesImage at 0x7ff26660a510>"
            ]
          },
          "metadata": {
            "tags": []
          },
          "execution_count": 17
        },
        {
          "output_type": "display_data",
          "data": {
            "image/png": "[encoded data removed]",
            "text/plain": [
              "<Figure size 432x288 with 1 Axes>"
            ]
          },
          "metadata": {
            "tags": [],
            "needs_background": "light"
          }
        }
      ]
    },
    {
      "cell_type": "code",
      "metadata": {
        "colab": {
          "base_uri": "https://localhost:8080/"
        },
        "id": "2SdpOanU8nBe",
        "outputId": "46a52ecb-52fc-48ac-b2e0-ef9a46b0118c"
      },
      "source": [
        "print(batch['rel'])"
      ],
      "execution_count": 18,
      "outputs": [
        {
          "output_type": "stream",
          "text": [
            "tensor([[0., 1., 0., 0.]])\n"
          ],
          "name": "stdout"
        }
      ]
    },
    {
      "cell_type": "code",
      "metadata": {
        "id": "KFsn71JE8TbV"
      },
      "source": [
        "# pred\n",
        "pred, hidden, rep = model(batch['img'], batch['rel'])"
      ],
      "execution_count": 21,
      "outputs": []
    },
    {
      "cell_type": "code",
      "metadata": {
        "colab": {
          "base_uri": "https://localhost:8080/"
        },
        "id": "6mU8bLFo8xsc",
        "outputId": "97fa01e9-ff70-49dd-b0f9-d11637ea159e"
      },
      "source": [
        "pred"
      ],
      "execution_count": 22,
      "outputs": [
        {
          "output_type": "execute_result",
          "data": {
            "text/plain": [
              "tensor([[3.1334e-03, 1.8754e-04, 1.7253e-02, 8.7119e-05, 3.3060e-04, 6.6340e-02,\n",
              "         3.5325e-04, 1.7192e-04, 4.1998e-04, 1.7276e-03, 3.8415e-04, 4.7167e-02,\n",
              "         1.4292e-02, 2.7629e-04, 9.4154e-04, 4.1413e-02, 1.8512e-02, 9.8878e-01,\n",
              "         1.0066e-02, 6.0794e-01, 2.7250e-01, 7.7400e-03, 2.8538e-02, 7.6136e-04,\n",
              "         1.0374e-01, 1.6314e-02, 2.4910e-02, 2.1231e-04, 6.9658e-04, 1.2096e-04,\n",
              "         1.1519e-04, 2.9461e-04, 9.2768e-02, 8.5961e-02, 4.8997e-04, 5.7860e-04]])"
            ]
          },
          "metadata": {
            "tags": []
          },
          "execution_count": 22
        }
      ]
    },
    {
      "cell_type": "code",
      "metadata": {
        "colab": {
          "base_uri": "https://localhost:8080/"
        },
        "id": "KK6Mjgk99UAJ",
        "outputId": "892206a7-909f-40d7-af8e-d6a5106b0cb3"
      },
      "source": [
        "#target\n",
        "\n",
        "batch['attr']"
      ],
      "execution_count": 23,
      "outputs": [
        {
          "output_type": "execute_result",
          "data": {
            "text/plain": [
              "tensor([[0., 0., 0., 0., 0., 0., 0., 0., 0., 0., 0., 0., 0., 0., 0., 0., 0., 1.,\n",
              "         0., 1., 0., 0., 0., 0., 0., 0., 0., 0., 0., 0., 0., 0., 0., 0., 0., 0.]])"
            ]
          },
          "metadata": {
            "tags": []
          },
          "execution_count": 23
        }
      ]
    },
    {
      "cell_type": "code",
      "metadata": {
        "id": "Z0j-ewI89ehi"
      },
      "source": [
        ""
      ],
      "execution_count": null,
      "outputs": []
    }
  ]
}